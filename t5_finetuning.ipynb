{
  "cells": [
    {
      "cell_type": "code",
      "execution_count": null,
      "metadata": {
        "id": "8BAv2kVCmAPS"
      },
      "outputs": [],
      "source": [
        "import locale\n",
        "locale.getpreferredencoding = lambda: \"UTF-8\""
      ]
    },
    {
      "cell_type": "code",
      "execution_count": null,
      "metadata": {
        "id": "kzAnTqLn9KQB"
      },
      "outputs": [],
      "source": [
        "from datasets import load_dataset\n",
        "\n",
        "dataset = load_dataset(\"gigaword\")"
      ]
    },
    {
      "cell_type": "code",
      "execution_count": null,
      "metadata": {
        "id": "gW44_zxT9qLx"
      },
      "outputs": [],
      "source": [
        "import pandas as pd\n",
        "import numpy as np\n",
        "import os\n",
        "import re\n",
        "import warnings\n",
        "warnings.filterwarnings(\"ignore\")\n",
        "from sklearn import datasets, linear_model\n",
        "from sklearn.model_selection import train_test_split\n",
        "from matplotlib import pyplot as plt\n",
        "from bs4 import BeautifulSoup\n",
        "from nltk.corpus import stopwords"
      ]
    },
    {
      "cell_type": "code",
      "execution_count": null,
      "metadata": {
        "colab": {
          "base_uri": "https://localhost:8080/"
        },
        "id": "ooVwXbbr9t2D",
        "outputId": "92a81908-2d35-44fe-d898-9fc26db3246c"
      },
      "outputs": [
        {
          "name": "stderr",
          "output_type": "stream",
          "text": [
            "[nltk_data] Downloading package stopwords to\n",
            "[nltk_data]     C:\\Users\\Abhishek\\AppData\\Roaming\\nltk_data...\n",
            "[nltk_data]   Package stopwords is already up-to-date!\n"
          ]
        },
        {
          "data": {
            "text/plain": [
              "True"
            ]
          },
          "execution_count": 1,
          "metadata": {},
          "output_type": "execute_result"
        }
      ],
      "source": [
        "import nltk\n",
        "nltk.download('stopwords')"
      ]
    },
    {
      "cell_type": "code",
      "execution_count": null,
      "metadata": {
        "id": "heh9wzEh9wLG"
      },
      "outputs": [],
      "source": [
        "train_dataset = dataset['train'][:2500]\n",
        "validation_dataset = dataset['validation'][:600]\n",
        "test_dataset = dataset['test'][:600]"
      ]
    },
    {
      "cell_type": "code",
      "execution_count": null,
      "metadata": {
        "id": "kle33oHC9zi9"
      },
      "outputs": [],
      "source": [
        "Data = pd.DataFrame(train_dataset)"
      ]
    },
    {
      "cell_type": "code",
      "execution_count": null,
      "metadata": {
        "colab": {
          "base_uri": "https://localhost:8080/"
        },
        "id": "grkI0szm92Kh",
        "outputId": "38f45847-a5fa-4f24-dd88-6bbef113eed9"
      },
      "outputs": [
        {
          "data": {
            "text/plain": [
              "(600, 2)"
            ]
          },
          "execution_count": 81,
          "metadata": {},
          "output_type": "execute_result"
        }
      ],
      "source": [
        "Data1 = pd.DataFrame(validation_dataset)\n",
        "Data1.shape"
      ]
    },
    {
      "cell_type": "code",
      "execution_count": null,
      "metadata": {
        "id": "Z4W1KSjq94EM"
      },
      "outputs": [],
      "source": [
        "df=Data[Data['document'].isnull()==False]\n",
        "df=Data[Data['summary'].isnull()==False]"
      ]
    },
    {
      "cell_type": "code",
      "execution_count": null,
      "metadata": {
        "id": "aq3doWo1974_"
      },
      "outputs": [],
      "source": [
        "contraction_mapping = {\"ain't\": \"is not\", \"aren't\": \"are not\",\"can't\": \"cannot\", \"'cause\": \"because\", \"could've\": \"could have\", \"couldn't\": \"could not\",\n",
        "\n",
        "                           \"didn't\": \"did not\", \"doesn't\": \"does not\", \"don't\": \"do not\", \"hadn't\": \"had not\", \"hasn't\": \"has not\", \"haven't\": \"have not\",\n",
        "\n",
        "                           \"he'd\": \"he would\",\"he'll\": \"he will\", \"he's\": \"he is\", \"how'd\": \"how did\", \"how'd'y\": \"how do you\", \"how'll\": \"how will\", \"how's\": \"how is\",\n",
        "\n",
        "                           \"I'd\": \"I would\", \"I'd've\": \"I would have\", \"I'll\": \"I will\", \"I'll've\": \"I will have\",\"I'm\": \"I am\", \"I've\": \"I have\", \"i'd\": \"i would\",\n",
        "\n",
        "                           \"i'd've\": \"i would have\", \"i'll\": \"i will\",  \"i'll've\": \"i will have\",\"i'm\": \"i am\", \"i've\": \"i have\", \"isn't\": \"is not\", \"it'd\": \"it would\",\n",
        "\n",
        "                           \"it'd've\": \"it would have\", \"it'll\": \"it will\", \"it'll've\": \"it will have\",\"it's\": \"it is\", \"let's\": \"let us\", \"ma'am\": \"madam\",\n",
        "\n",
        "                           \"mayn't\": \"may not\", \"might've\": \"might have\",\"mightn't\": \"might not\",\"mightn't've\": \"might not have\", \"must've\": \"must have\",\n",
        "\n",
        "                           \"mustn't\": \"must not\", \"mustn't've\": \"must not have\", \"needn't\": \"need not\", \"needn't've\": \"need not have\",\"o'clock\": \"of the clock\",\n",
        "\n",
        "                           \"oughtn't\": \"ought not\", \"oughtn't've\": \"ought not have\", \"shan't\": \"shall not\", \"sha'n't\": \"shall not\", \"shan't've\": \"shall not have\",\n",
        "\n",
        "                           \"she'd\": \"she would\", \"she'd've\": \"she would have\", \"she'll\": \"she will\", \"she'll've\": \"she will have\", \"she's\": \"she is\",\n",
        "\n",
        "                           \"should've\": \"should have\", \"shouldn't\": \"should not\", \"shouldn't've\": \"should not have\", \"so've\": \"so have\",\"so's\": \"so as\",\n",
        "\n",
        "                           \"this's\": \"this is\",\"that'd\": \"that would\", \"that'd've\": \"that would have\", \"that's\": \"that is\", \"there'd\": \"there would\",\n",
        "\n",
        "                           \"there'd've\": \"there would have\", \"there's\": \"there is\", \"here's\": \"here is\",\"they'd\": \"they would\", \"they'd've\": \"they would have\",\n",
        "\n",
        "                           \"they'll\": \"they will\", \"they'll've\": \"they will have\", \"they're\": \"they are\", \"they've\": \"they have\", \"to've\": \"to have\",\n",
        "\n",
        "                           \"wasn't\": \"was not\", \"we'd\": \"we would\", \"we'd've\": \"we would have\", \"we'll\": \"we will\", \"we'll've\": \"we will have\", \"we're\": \"we are\",\n",
        "\n",
        "                           \"we've\": \"we have\", \"weren't\": \"were not\", \"what'll\": \"what will\", \"what'll've\": \"what will have\", \"what're\": \"what are\",\n",
        "\n",
        "                           \"what's\": \"what is\", \"what've\": \"what have\", \"when's\": \"when is\", \"when've\": \"when have\", \"where'd\": \"where did\", \"where's\": \"where is\",\n",
        "\n",
        "                           \"where've\": \"where have\", \"who'll\": \"who will\", \"who'll've\": \"who will have\", \"who's\": \"who is\", \"who've\": \"who have\",\n",
        "\n",
        "                           \"why's\": \"why is\", \"why've\": \"why have\", \"will've\": \"will have\", \"won't\": \"will not\", \"won't've\": \"will not have\",\n",
        "\n",
        "                           \"would've\": \"would have\", \"wouldn't\": \"would not\", \"wouldn't've\": \"would not have\", \"y'all\": \"you all\",\n",
        "\n",
        "                           \"y'all'd\": \"you all would\",\"y'all'd've\": \"you all would have\",\"y'all're\": \"you all are\",\"y'all've\": \"you all have\",\n",
        "\n",
        "                           \"you'd\": \"you would\", \"you'd've\": \"you would have\", \"you'll\": \"you will\", \"you'll've\": \"you will have\",\n",
        "\n",
        "                           \"you're\": \"you are\", \"you've\": \"you have\"}"
      ]
    },
    {
      "cell_type": "code",
      "execution_count": null,
      "metadata": {
        "id": "NLgGV1DA99nZ"
      },
      "outputs": [],
      "source": [
        "stop_words = set(stopwords.words('english'))\n",
        "def text_cleaner(text):\n",
        "    newString = text.lower()\n",
        "    newString = BeautifulSoup(newString, \"lxml\").text\n",
        "    newString = re.sub(r'\\([^)]*\\)', '', newString)\n",
        "    newString = re.sub('\"','', newString)\n",
        "    newString = ' '.join([contraction_mapping[t] if t in contraction_mapping else t for t in newString.split(\" \")])\n",
        "    newString = re.sub(r\"'s\\b\",\"\",newString)\n",
        "    newString = re.sub(\"[^a-zA-Z]\", \" \", newString)\n",
        "    tokens = [w for w in newString.split() if not w in stop_words]\n",
        "    long_words=[]\n",
        "    for i in tokens:\n",
        "        if len(i)>=3:\n",
        "            long_words.append(i)\n",
        "    return (\" \".join(long_words)).strip()"
      ]
    },
    {
      "cell_type": "code",
      "execution_count": null,
      "metadata": {
        "id": "NICMsLb--Bw1"
      },
      "outputs": [],
      "source": [
        "x_train = []\n",
        "for t in df['document']:\n",
        "    x_train.append(text_cleaner(t))\n",
        "\n",
        "y_train = []\n",
        "for t in df['summary']:\n",
        "    y_train.append(text_cleaner(t))"
      ]
    },
    {
      "cell_type": "code",
      "execution_count": null,
      "metadata": {
        "colab": {
          "base_uri": "https://localhost:8080/"
        },
        "id": "tr4ddtpc-Epw",
        "outputId": "2e62a9de-fa9f-4fd1-8679-3c75c4e33ddb"
      },
      "outputs": [
        {
          "name": "stdout",
          "output_type": "stream",
          "text": [
            "66\n"
          ]
        }
      ],
      "source": [
        "sequence_lengths = [len(seq) for seq in y_train]\n",
        "print(max(sequence_lengths))"
      ]
    },
    {
      "cell_type": "code",
      "execution_count": null,
      "metadata": {
        "colab": {
          "base_uri": "https://localhost:8080/"
        },
        "id": "f8ssCQhb_f17",
        "outputId": "e5331598-f584-4e32-ff6c-40b858c4275b"
      },
      "outputs": [
        {
          "name": "stdout",
          "output_type": "stream",
          "text": [
            "                                                                                                                                                  Cleaned Document  \\\n",
            "0         australia current account deficit shrunk record billion dollars lrb billion rrb june quarter due soaring commodity prices figures released monday showed   \n",
            "1                                                least two people killed suspected bomb attack passenger bus strife torn southern philippines monday military said   \n",
            "2                                                    australian shares closed percent monday following weak lead united states lower commodity prices dealers said   \n",
            "3                           south korea nuclear envoy kim sook urged north korea monday restart work disable nuclear plants stop typical brinkmanship negotiations   \n",
            "4  south korea monday announced sweeping tax reforms including income corporate tax cuts boost growth stimulating sluggish private consumption business investment   \n",
            "\n",
            "                                       Cleaned Summary  \n",
            "0   australian current account deficit narrows sharply  \n",
            "1            least two dead southern philippines blast  \n",
            "2                      australian stocks close percent  \n",
            "3  envoy urges north korea restart nuclear disablement  \n",
            "4          skorea announces tax cuts stimulate economy  \n"
          ]
        }
      ],
      "source": [
        "pd.set_option('display.max_colwidth', None)\n",
        "preprocessed_data = pd.DataFrame({\n",
        "    'Cleaned Document': x_train,\n",
        "    'Cleaned Summary': y_train\n",
        "})\n",
        "\n",
        "print(preprocessed_data.head())"
      ]
    },
    {
      "cell_type": "code",
      "execution_count": null,
      "metadata": {
        "colab": {
          "base_uri": "https://localhost:8080/"
        },
        "id": "q6dnqStyAAzc",
        "outputId": "2958d627-0dc6-41fd-b9ed-6abacdd164cb"
      },
      "outputs": [
        {
          "name": "stdout",
          "output_type": "stream",
          "text": [
            "                                                                                                                                                  Cleaned Document  \\\n",
            "0               australia current account deficit shrunk record billion dollars  billion  june quarter due soaring commodity prices figures released monday showed   \n",
            "1                                                least two people killed suspected bomb attack passenger bus strife torn southern philippines monday military said   \n",
            "2                                                    australian shares closed percent monday following weak lead united states lower commodity prices dealers said   \n",
            "3                           south korea nuclear envoy kim sook urged north korea monday restart work disable nuclear plants stop typical brinkmanship negotiations   \n",
            "4  south korea monday announced sweeping tax reforms including income corporate tax cuts boost growth stimulating sluggish private consumption business investment   \n",
            "\n",
            "                                       Cleaned Summary  \n",
            "0   australian current account deficit narrows sharply  \n",
            "1            least two dead southern philippines blast  \n",
            "2                      australian stocks close percent  \n",
            "3  envoy urges north korea restart nuclear disablement  \n",
            "4          skorea announces tax cuts stimulate economy  \n"
          ]
        }
      ],
      "source": [
        "\n",
        "preprocessed_data['Cleaned Document'] = preprocessed_data['Cleaned Document'].str.replace(\"lrb\", \"\", regex=False).str.replace(\"rrb\", \"\", regex=False)\n",
        "preprocessed_data['Cleaned Summary'] = preprocessed_data['Cleaned Summary'].str.replace(\"lrb\", \"\", regex=False).str.replace(\"rrb\", \"\", regex=False)\n",
        "\n",
        "\n",
        "print(preprocessed_data.head())"
      ]
    },
    {
      "cell_type": "code",
      "execution_count": null,
      "metadata": {
        "id": "iXJeeGKPQ6V8"
      },
      "outputs": [],
      "source": [
        "import torch\n",
        "from transformers import T5Tokenizer, T5ForConditionalGeneration, AdamW, get_linear_schedule_with_warmup"
      ]
    },
    {
      "cell_type": "code",
      "execution_count": null,
      "metadata": {
        "id": "o5dOnxJgRHT_"
      },
      "outputs": [],
      "source": [
        "# Adding 'summarize: ' prefix for t5 small model to work\n",
        "preprocessed_data['Cleaned Document'] = 'summarize: ' + preprocessed_data['Cleaned Document']\n",
        "\n",
        "train_texts = preprocessed_data['Cleaned Document'][:5000].tolist()\n",
        "train_labels = preprocessed_data['Cleaned Summary'][:5000].tolist()\n",
        "val_texts = preprocessed_data['Cleaned Document'][500:].tolist()\n",
        "val_labels = preprocessed_data['Cleaned Summary'][500:].tolist()\n",
        "\n",
        "val_texts, test_texts, val_labels, test_labels = train_test_split(val_texts, val_labels, test_size=0.5, random_state=42)"
      ]
    },
    {
      "cell_type": "code",
      "execution_count": null,
      "metadata": {
        "colab": {
          "base_uri": "https://localhost:8080/"
        },
        "id": "Z2-tZkZAUF4W",
        "outputId": "662b2f46-87eb-4863-bb19-ab8f5a06a840"
      },
      "outputs": [
        {
          "name": "stdout",
          "output_type": "stream",
          "text": [
            "                                                                                                                                                             Cleaned Document  \\\n",
            "0               summarize: australia current account deficit shrunk record billion dollars  billion  june quarter due soaring commodity prices figures released monday showed   \n",
            "1                                                summarize: least two people killed suspected bomb attack passenger bus strife torn southern philippines monday military said   \n",
            "2                                                    summarize: australian shares closed percent monday following weak lead united states lower commodity prices dealers said   \n",
            "3                           summarize: south korea nuclear envoy kim sook urged north korea monday restart work disable nuclear plants stop typical brinkmanship negotiations   \n",
            "4  summarize: south korea monday announced sweeping tax reforms including income corporate tax cuts boost growth stimulating sluggish private consumption business investment   \n",
            "\n",
            "                                       Cleaned Summary  \n",
            "0   australian current account deficit narrows sharply  \n",
            "1            least two dead southern philippines blast  \n",
            "2                      australian stocks close percent  \n",
            "3  envoy urges north korea restart nuclear disablement  \n",
            "4          skorea announces tax cuts stimulate economy  \n"
          ]
        }
      ],
      "source": [
        "print(preprocessed_data.head())"
      ]
    },
    {
      "cell_type": "code",
      "execution_count": null,
      "metadata": {
        "colab": {
          "base_uri": "https://localhost:8080/"
        },
        "id": "IvfNGrxWSxgR",
        "outputId": "5d5d5116-4551-40f5-c7c9-d01212c19cb1"
      },
      "outputs": [
        {
          "name": "stderr",
          "output_type": "stream",
          "text": [
            "Special tokens have been added in the vocabulary, make sure the associated word embeddings are fine-tuned or trained.\n"
          ]
        }
      ],
      "source": [
        "tokenizer = T5Tokenizer.from_pretrained(\"t5-small\")\n",
        "\n",
        "train_encodings = tokenizer(train_texts, truncation=True, padding=True, max_length=512)\n",
        "val_encodings = tokenizer(val_texts, truncation=True, padding=True, max_length=512)\n",
        "train_labels_encodings = tokenizer(train_labels, truncation=True, padding=True, max_length=128)\n",
        "val_labels_encodings = tokenizer(val_labels, truncation=True, padding=True, max_length=128)\n",
        "test_encodings = tokenizer(test_texts, truncation=True, padding=True, max_length=512)\n",
        "test_labels_encodings = tokenizer(test_labels, truncation=True, padding=True, max_length=128)\n",
        "\n",
        "class SummarizationDataset(torch.utils.data.Dataset):\n",
        "    def __init__(self, encodings, labels):\n",
        "        self.encodings = encodings\n",
        "        self.labels = labels\n",
        "\n",
        "    def __getitem__(self, idx):\n",
        "        item = {key: torch.tensor(val[idx]) for key, val in self.encodings.items()}\n",
        "        item['labels'] = torch.tensor(self.labels['input_ids'][idx])\n",
        "        return item\n",
        "\n",
        "    def __len__(self):\n",
        "        return len(self.encodings.input_ids)\n",
        "\n",
        "train_dataset = SummarizationDataset(train_encodings, train_labels_encodings)\n",
        "val_dataset = SummarizationDataset(val_encodings, val_labels_encodings)\n",
        "test_dataset = SummarizationDataset(test_encodings, test_labels_encodings)"
      ]
    },
    {
      "cell_type": "code",
      "execution_count": null,
      "metadata": {
        "id": "eisnmoImT047"
      },
      "outputs": [],
      "source": [
        "model = T5ForConditionalGeneration.from_pretrained(\"t5-small\")"
      ]
    },
    {
      "cell_type": "code",
      "execution_count": null,
      "metadata": {
        "id": "LFeiMrhuWZXX"
      },
      "outputs": [],
      "source": [
        "device = torch.device('cuda' if torch.cuda.is_available() else 'cpu')\n",
        "model.to(device)\n",
        "\n",
        "# Training hyperparameters\n",
        "epochs = 10\n",
        "batch_size = 8\n",
        "learning_rate = 3e-5\n",
        "\n",
        "optimizer = AdamW(model.parameters(), lr=learning_rate)\n",
        "scheduler = get_linear_schedule_with_warmup(optimizer, num_warmup_steps=0, num_training_steps=len(train_dataset) * epochs)"
      ]
    },
    {
      "cell_type": "code",
      "execution_count": null,
      "metadata": {
        "colab": {
          "base_uri": "https://localhost:8080/"
        },
        "id": "MEXExwhNXCHY",
        "outputId": "85b20a2d-7ce0-41ca-8d0e-61f8d16e385f"
      },
      "outputs": [
        {
          "name": "stdout",
          "output_type": "stream",
          "text": [
            "Epoch: 0, Training Loss: 0.32912190933227536\n",
            "Epoch: 1, Training Loss: 0.16274981226921081\n",
            "Epoch: 2, Training Loss: 0.14437894299030304\n",
            "Epoch: 3, Training Loss: 0.13592680416107178\n",
            "Epoch: 4, Training Loss: 0.13006603968143463\n",
            "Epoch: 5, Training Loss: 0.12508917961120605\n",
            "Epoch: 6, Training Loss: 0.12144730406999588\n",
            "Epoch: 7, Training Loss: 0.11790390024185181\n",
            "Epoch: 8, Training Loss: 0.11395714197158814\n",
            "Epoch: 9, Training Loss: 0.11103501843214035\n"
          ]
        }
      ],
      "source": [
        "train_losses = []\n",
        "val_losses = []\n",
        "\n",
        "model.train()\n",
        "for epoch in range(epochs):\n",
        "    total_loss = 0\n",
        "    for batch in torch.utils.data.DataLoader(train_dataset, batch_size=batch_size):\n",
        "        optimizer.zero_grad()\n",
        "        input_ids = batch['input_ids'].to(device)\n",
        "        attention_mask = batch['attention_mask'].to(device)\n",
        "        labels = batch['labels'].to(device)\n",
        "\n",
        "        outputs = model(input_ids, attention_mask=attention_mask, labels=labels)\n",
        "        loss = outputs.loss\n",
        "        total_loss += loss.item()\n",
        "\n",
        "        loss.backward()\n",
        "        optimizer.step()\n",
        "        scheduler.step()\n",
        "\n",
        "    avg_loss = total_loss / len(train_dataset)\n",
        "    train_losses.append(avg_loss)\n",
        "    print(f\"Epoch: {epoch}, Training Loss: {avg_loss}\")\n"
      ]
    },
    {
      "cell_type": "code",
      "execution_count": null,
      "metadata": {
        "colab": {
          "base_uri": "https://localhost:8080/",
          "height": 564
        },
        "id": "lJm_xsM9vhUQ",
        "outputId": "a3db5697-b562-4a4d-a20a-a74350bcefd8"
      },
      "outputs": [
        {
          "data": {
            "image/png": "[encoded data removed]",
            "text/plain": [
              "<Figure size 1200x600 with 1 Axes>"
            ]
          },
          "metadata": {},
          "output_type": "display_data"
        }
      ],
      "source": [
        "plt.figure(figsize=(12, 6))\n",
        "plt.plot(train_losses, label='Training Loss')\n",
        "plt.xlabel('Epochs')\n",
        "plt.ylabel('Loss')\n",
        "plt.title('Training and Validation Loss Over Time')\n",
        "plt.legend()\n",
        "plt.show()"
      ]
    },
    {
      "cell_type": "code",
      "execution_count": null,
      "metadata": {
        "colab": {
          "base_uri": "https://localhost:8080/"
        },
        "id": "Sq-SsVBHf1ZV",
        "outputId": "b7aee59b-2416-4795-90c3-b75e54ab254e"
      },
      "outputs": [
        {
          "name": "stdout",
          "output_type": "stream",
          "text": [
            "Average Validation Loss: 0.08933560135960579\n"
          ]
        }
      ],
      "source": [
        "total_val_loss = 0\n",
        "model.eval()\n",
        "\n",
        "with torch.no_grad():\n",
        "    for batch in torch.utils.data.DataLoader(val_dataset, batch_size=batch_size):\n",
        "        input_ids = batch['input_ids'].to(device)\n",
        "        attention_mask = batch['attention_mask'].to(device)\n",
        "        labels = batch['labels'].to(device)\n",
        "\n",
        "        outputs = model(input_ids, attention_mask=attention_mask, labels=labels)\n",
        "        loss = outputs.loss\n",
        "        total_val_loss += loss.item()\n",
        "\n",
        "avg_val_loss = total_val_loss / len(val_dataset)\n",
        "print(f\"Average Validation Loss: {avg_val_loss}\")"
      ]
    },
    {
      "cell_type": "code",
      "execution_count": null,
      "metadata": {
        "colab": {
          "base_uri": "https://localhost:8080/"
        },
        "id": "aninmiGMYUMG",
        "outputId": "fba36d0b-978d-4c0f-ea3b-415297b38e39"
      },
      "outputs": [
        {
          "name": "stdout",
          "output_type": "stream",
          "text": [
            "{'rouge1': AggregateScore(low=Score(precision=0.48313329455266996, recall=0.48240769841269904, fmeasure=0.47664001402450507), mid=Score(precision=0.4983057178932184, recall=0.49759722222222313, fmeasure=0.49106154371944066), high=Score(precision=0.5149908071789325, recall=0.5141642361111114, fmeasure=0.5075546265784883)), 'rouge2': AggregateScore(low=Score(precision=0.23380614177489142, recall=0.23339415674603123, fmeasure=0.22929503425882716), mid=Score(precision=0.25133674242424187, recall=0.2505109126984122, fmeasure=0.24667560623501072), high=Score(precision=0.26884480519480497, recall=0.2671409226190472, fmeasure=0.2632622872908826)), 'rougeL': AggregateScore(low=Score(precision=0.455512454004329, recall=0.4556212896825396, fmeasure=0.44921227813616693), mid=Score(precision=0.4709628427128426, recall=0.47088849206349226, fmeasure=0.46421877929432276), high=Score(precision=0.4864417586580084, recall=0.48674541666666704, fmeasure=0.4792511087491388)), 'rougeLsum': AggregateScore(low=Score(precision=0.4555051659451662, recall=0.4551344047619046, fmeasure=0.4490001001825408), mid=Score(precision=0.4710277777777777, recall=0.4706676587301586, fmeasure=0.46428486339082503), high=Score(precision=0.487073594877345, recall=0.4858372420634922, fmeasure=0.47901085719921804))}\n"
          ]
        }
      ],
      "source": [
        "from datasets import load_metric\n",
        "\n",
        "rouge = load_metric('rouge')\n",
        "\n",
        "model.eval()\n",
        "with torch.no_grad():\n",
        "    for batch in torch.utils.data.DataLoader(val_dataset, batch_size=batch_size):\n",
        "        input_ids = batch['input_ids'].to(device)\n",
        "        attention_mask = batch['attention_mask'].to(device)\n",
        "        labels = batch['labels'].to(device)\n",
        "\n",
        "        outputs = model.generate(input_ids=input_ids, attention_mask=attention_mask)\n",
        "\n",
        "        decoded_preds = tokenizer.batch_decode(outputs, skip_special_tokens=True)\n",
        "        decoded_labels = tokenizer.batch_decode(labels, skip_special_tokens=True)\n",
        "\n",
        "        rouge.add_batch(predictions=decoded_preds, references=decoded_labels)\n",
        "\n",
        "result = rouge.compute()\n",
        "print(result)\n"
      ]
    },
    {
      "cell_type": "code",
      "execution_count": null,
      "metadata": {
        "colab": {
          "base_uri": "https://localhost:8080/"
        },
        "id": "Hnec8BtecUKY",
        "outputId": "1debfca6-8f84-47e6-e69d-d379175f5431"
      },
      "outputs": [
        {
          "name": "stdout",
          "output_type": "stream",
          "text": [
            "{'rouge1': AggregateScore(low=Score(precision=0.47552579545454576, recall=0.4723867261904766, fmeasure=0.4675977148260252), mid=Score(precision=0.4921273448773453, recall=0.48824642857142864, fmeasure=0.48302561616230555), high=Score(precision=0.5079705573593073, recall=0.5035990575396831, fmeasure=0.49779783072062295)), 'rouge2': AggregateScore(low=Score(precision=0.22634963203463157, recall=0.22138684523809507, fmeasure=0.219735194291003), mid=Score(precision=0.24329134199134161, recall=0.238478571428571, fmeasure=0.23639123319490996), high=Score(precision=0.261451549422799, recall=0.25497532738095197, fmeasure=0.2534230708139902)), 'rougeL': AggregateScore(low=Score(precision=0.45206077741702705, recall=0.4471974404761906, fmeasure=0.443104827620996), mid=Score(precision=0.4680159271284267, recall=0.46396011904761914, fmeasure=0.459163664577598), high=Score(precision=0.48465944985569964, recall=0.4797308432539684, fmeasure=0.47480560787252124)), 'rougeLsum': AggregateScore(low=Score(precision=0.45117502254689706, recall=0.4479082738095231, fmeasure=0.4430216359363045), mid=Score(precision=0.46748809523809526, recall=0.46436785714285783, fmeasure=0.4589347468450037), high=Score(precision=0.4843557566738815, recall=0.478392242063492, fmeasure=0.47389746649485043))}\n"
          ]
        }
      ],
      "source": [
        "model.eval()\n",
        "test_rouge_scores = []\n",
        "\n",
        "with torch.no_grad():\n",
        "    for batch in torch.utils.data.DataLoader(test_dataset, batch_size=batch_size):\n",
        "        input_ids = batch['input_ids'].to(device)\n",
        "        attention_mask = batch['attention_mask'].to(device)\n",
        "\n",
        "        outputs = model.generate(input_ids=input_ids, attention_mask=attention_mask)\n",
        "\n",
        "        decoded_preds = tokenizer.batch_decode(outputs, skip_special_tokens=True)\n",
        "        decoded_labels = tokenizer.batch_decode(batch['labels'], skip_special_tokens=True)\n",
        "\n",
        "        rouge.add_batch(predictions=decoded_preds, references=decoded_labels)\n",
        "\n",
        "test_result = rouge.compute()\n",
        "print(test_result)\n"
      ]
    },
    {
      "cell_type": "code",
      "execution_count": null,
      "metadata": {
        "colab": {
          "base_uri": "https://localhost:8080/"
        },
        "id": "C5KQ6dlTY-cV",
        "outputId": "3fd2e0f7-2247-471b-cd3e-293e6d33e6e6"
      },
      "outputs": [
        {
          "name": "stdout",
          "output_type": "stream",
          "text": [
            "Input Text: summarize: army awarded million dollars unk contracts build joint military bases bulgaria embassy said statement thursday\n",
            "\n",
            "Generated Summary: unk contracts build bulgaria bases\n",
            "\n",
            "Actual Summary: army builds bulgarian base\n",
            "\n",
            "--------------------------------------------------\n",
            "\n",
            "Input Text: summarize: prominent militant group oil rich southern nigeria sunday said declared oil war threatened international industry vessels approach region\n",
            "\n",
            "Generated Summary: militant group declares war oil industry\n",
            "\n",
            "Actual Summary: militant group niger delta declares war oil industry\n",
            "\n",
            "--------------------------------------------------\n",
            "\n",
            "Input Text: summarize: defense secretary robert gates arrived london wednesday ahead meeting nato colleagues set overshadowed georgia conflict russia\n",
            "\n",
            "Generated Summary: gates arrives london meeting nato\n",
            "\n",
            "Actual Summary: gates arrives london ahead nato meeting\n",
            "\n",
            "--------------------------------------------------\n",
            "\n",
            "Input Text: summarize: dell expects softening global demand computers information technology products company said statement tuesday\n",
            "\n",
            "Generated Summary: dell expects softening global demand\n",
            "\n",
            "Actual Summary: dell sees diminishing global demand\n",
            "\n",
            "--------------------------------------------------\n",
            "\n",
            "Input Text: summarize: separatist tamil tiger rebels tuesday said beat back stiff army offensive northern stronghold killing soldiers wounding\n",
            "\n",
            "Generated Summary: tamil tiger rebels beat back offensive northern stronghold\n",
            "\n",
            "Actual Summary: sri lanka tigers say killed soldiers\n",
            "\n",
            "--------------------------------------------------\n",
            "\n",
            "Input Text: summarize: magnitude earthquake struck eastern indonesian province maluku tuesday threat tsunami immediate reports damage seismologists said\n",
            "\n",
            "Generated Summary: magnitude earthquake strikes maluku\n",
            "\n",
            "Actual Summary: quake strikes indonesia maluku\n",
            "\n",
            "--------------------------------------------------\n",
            "\n",
            "Input Text: summarize: nato chief jaap hoop scheffer tuesday said georgia path nato membership wide open warned russia interfering assessed damage last month war\n",
            "\n",
            "Generated Summary: nato chief warns georgia path nato wide open\n",
            "\n",
            "Actual Summary: nato path wide open georgia says alliance chief\n",
            "\n",
            "--------------------------------------------------\n",
            "\n",
            "Input Text: summarize: mexican authorities suspect powerful drug gang known familia involvement deadly grenade attack independence day celebrations official said thursday\n",
            "\n",
            "Generated Summary: mexico suspects gang grenade attack\n",
            "\n",
            "Actual Summary: mexico suspects top drug gang independence day attack\n",
            "\n",
            "--------------------------------------------------\n",
            "\n",
            "Input Text: summarize: officials pleaded friday thousands diehard residents texas coast flee escape certain death powerful hurricane ike bore houston fourth largest city major oil hub\n",
            "\n",
            "Generated Summary: texas officials plead flee ike death toll rises\n",
            "\n",
            "Actual Summary: officials urge residents flee killer hurricane roars texas\n",
            "\n",
            "--------------------------------------------------\n",
            "\n",
            "Input Text: summarize: security council chief ban moon wednesday strongly condemned terrorist car bombing targeted embassy yemeni capital sanaa left people dead\n",
            "\n",
            "Generated Summary: ban moon condemns bombing embassy yemen\n",
            "\n",
            "Actual Summary: slams anti car bombing yemen\n",
            "\n",
            "--------------------------------------------------\n",
            "\n",
            "Input Text: summarize: crude oil prices dipped dollars barrel new york friday traders anticipated hurricane ike would spare oil installations gulf mexico\n",
            "\n",
            "Generated Summary: crude oil drops dollars barrel new york\n",
            "\n",
            "Actual Summary: crude oil drops dollars new york\n",
            "\n",
            "--------------------------------------------------\n",
            "\n",
            "Input Text: summarize: asian growth slow year next turbulence global markets fans inflation asian development bank warned tuesday\n",
            "\n",
            "Generated Summary: asian growth slows year turbulence\n",
            "\n",
            "Actual Summary: adb cuts asia growth forecast warns inflation\n",
            "\n",
            "--------------------------------------------------\n",
            "\n",
            "Input Text: summarize: london ftse index leading shares tumbled lowest level three years tuesday global financial markets continued suffer collapse lehman brothers\n",
            "\n",
            "Generated Summary: london ftse index shares tumble lowest level three years\n",
            "\n",
            "Actual Summary: london stock market slides three year low\n",
            "\n",
            "--------------------------------------------------\n",
            "\n",
            "Input Text: summarize: european union gave green light monday strong observer mission georgia amid criticism deploy rebel abkhazia south ossetia\n",
            "\n",
            "Generated Summary: green light georgia observer mission\n",
            "\n",
            "Actual Summary: greenlights georgia observers amid mission criticism\n",
            "\n",
            "--------------------------------------------------\n",
            "\n",
            "Input Text: summarize: john mccain camp sunday hit back sunday barack obama campaign charged white house bid based disgusting lies accusing democrats reeling full unk panic\n",
            "\n",
            "Generated Summary: mccain camp hits back obama campaign\n",
            "\n",
            "Actual Summary: republicans hit back campaign lie claims\n",
            "\n",
            "--------------------------------------------------\n",
            "\n",
            "Input Text: summarize: australian state moved closer decriminalising abortion friday hard fought bill passed lower house parliament following hour debate officials said\n",
            "\n",
            "Generated Summary: australian state moves closer decriminalising abortion bill\n",
            "\n",
            "Actual Summary: australian abortion bill progresses despite opposition\n",
            "\n",
            "--------------------------------------------------\n",
            "\n",
            "Input Text: summarize: indonesian shares slumped percent monday aftershocks lehman brothers filing bankruptcy hit sentiment dealers said\n",
            "\n",
            "Generated Summary: indonesia shares slump percent\n",
            "\n",
            "Actual Summary: indonesian shares slump percent financial woes\n",
            "\n",
            "--------------------------------------------------\n",
            "\n",
            "Input Text: summarize: retail sales fell percent august government fiscal stimulus faded strong automobile sales helping offset steeper decline commerce department said friday\n",
            "\n",
            "Generated Summary: retail sales percent august stimulus\n",
            "\n",
            "Actual Summary: august retail sales surprise slump\n",
            "\n",
            "--------------------------------------------------\n",
            "\n",
            "Input Text: summarize: lawmakers tuesday sought overturn decades old ban offshore drilling voting favor new energy bill spurred spiralling oil prices\n",
            "\n",
            "Generated Summary: lawmakers seek overturn decades drilling ban\n",
            "\n",
            "Actual Summary: lawmakers vote end year ban offshore drilling\n",
            "\n",
            "--------------------------------------------------\n",
            "\n",
            "Input Text: summarize: switzerland central bank thursday left interest rate unchanged pledged would keep generously providing markets liquidity\n",
            "\n",
            "Generated Summary: swiss central bank leaves interest rate unchanged\n",
            "\n",
            "Actual Summary: swiss central bank holds rates says continue supply liquidity\n",
            "\n",
            "--------------------------------------------------\n",
            "\n",
            "Input Text: summarize: european foreign ministers monday held prospect aid lifted sanctions bid persuade leaders unk belarus hold democratic elections next month\n",
            "\n",
            "Generated Summary: european foreign ministers hold prospect aid lift sanctions bid\n",
            "\n",
            "Actual Summary: ministers woo russian ally belarus ahead polls\n",
            "\n",
            "--------------------------------------------------\n",
            "\n",
            "Input Text: summarize: chinese share prices slightly lower wednesday morning led banks amid concerns impact financial turmoil chinese economy dealers said\n",
            "\n",
            "Generated Summary: chinese shares slightly lower\n",
            "\n",
            "Actual Summary: chinese shares pct morning trade\n",
            "\n",
            "--------------------------------------------------\n",
            "\n",
            "Input Text: summarize: united nations rejected taiwan bid join global body blocking island attempt officials said thursday\n",
            "\n",
            "Generated Summary: taiwan rejects bid join global body blocking island\n",
            "\n",
            "Actual Summary: taiwan attempt join rejected\n",
            "\n",
            "--------------------------------------------------\n",
            "\n",
            "Input Text: summarize: rwanda ruling party majority seats parliamentary polls faced little opposition electoral commision chief said tuesday\n",
            "\n",
            "Generated Summary: rwanda ruling party majority seats parliamentary polls\n",
            "\n",
            "Actual Summary: rwanda ruling party wins majority initial parliament polls\n",
            "\n",
            "--------------------------------------------------\n",
            "\n"
          ]
        }
      ],
      "source": [
        "model.eval()\n",
        "with torch.no_grad():\n",
        "\n",
        "    for i, batch in enumerate(torch.utils.data.DataLoader(test_dataset, batch_size=batch_size)):\n",
        "        input_ids = batch['input_ids'].to(device)\n",
        "        attention_mask = batch['attention_mask'].to(device)\n",
        "        labels = batch['labels'].to(device)\n",
        "\n",
        "        outputs = model.generate(input_ids=input_ids, attention_mask=attention_mask, max_length=50)\n",
        "\n",
        "        decoded_preds = tokenizer.batch_decode(outputs, skip_special_tokens=True)\n",
        "        decoded_labels = tokenizer.batch_decode(labels, skip_special_tokens=True)\n",
        "        decoded_texts = tokenizer.batch_decode(input_ids, skip_special_tokens=True)\n",
        "\n",
        "        for text, pred, label in zip(decoded_texts, decoded_preds, decoded_labels):\n",
        "            print(f\"Input Text: {text}\\n\")\n",
        "            print(f\"Generated Summary: {pred}\\n\")\n",
        "            print(f\"Actual Summary: {label}\\n\")\n",
        "            print(\"--------------------------------------------------\\n\")\n",
        "\n",
        "        if i == 2:\n",
        "            break"
      ]
    },
    {
      "cell_type": "code",
      "execution_count": null,
      "metadata": {
        "colab": {
          "base_uri": "https://localhost:8080/"
        },
        "id": "0K6rZj5tmpTC",
        "outputId": "127886b3-a26e-48b9-bfee-06f0d6a75640"
      },
      "outputs": [
        {
          "name": "stderr",
          "output_type": "stream",
          "text": [
            "Special tokens have been added in the vocabulary, make sure the associated word embeddings are fine-tuned or trained.\n"
          ]
        }
      ],
      "source": [
        "from transformers import T5Tokenizer, T5ForConditionalGeneration\n",
        "\n",
        "tokenizer = T5Tokenizer.from_pretrained('t5-small')\n",
        "model = T5ForConditionalGeneration.from_pretrained('t5-small')"
      ]
    },
    {
      "cell_type": "code",
      "execution_count": null,
      "metadata": {
        "id": "_tnDrW_nmvto"
      },
      "outputs": [],
      "source": [
        "  train_encodings = tokenizer(x_train, truncation=True, padding=True, max_length=512)\n",
        "  train_labels = tokenizer(y_train, truncation=True, padding=True, max_length=128)"
      ]
    },
    {
      "cell_type": "code",
      "execution_count": null,
      "metadata": {
        "id": "qZXa-Kcumzif"
      },
      "outputs": [],
      "source": [
        "import torch\n",
        "\n",
        "class SummarizationDataset(torch.utils.data.Dataset):\n",
        "    def __init__(self, encodings, labels):\n",
        "        self.encodings = encodings\n",
        "        self.labels = labels\n",
        "\n",
        "    def __getitem__(self, idx):\n",
        "        item = {key: torch.tensor(val[idx]) for key, val in self.encodings.items()}\n",
        "        item['labels'] = torch.tensor(self.labels.input_ids[idx])\n",
        "        return item\n",
        "\n",
        "    def __len__(self):\n",
        "        return len(self.encodings.input_ids)\n",
        "\n",
        "train_dataset = SummarizationDataset(train_encodings, train_labels)"
      ]
    },
    {
      "cell_type": "code",
      "execution_count": null,
      "metadata": {
        "id": "VyfXhgIjrA3b"
      },
      "outputs": [],
      "source": [
        "from transformers import AdamW, get_linear_schedule_with_warmup\n",
        "from torch.optim import RMSprop\n",
        "\n",
        "device = torch.device(\"cuda\" if torch.cuda.is_available() else \"cpu\")\n",
        "model.to(device)\n",
        "\n",
        "#Using RMSprop optimizer with learning rate little higher than the previous.\n",
        "optimizer = RMSprop(model.parameters(), lr=5e-5)\n",
        "\n",
        "num_epochs = 10\n",
        "num_training_steps = num_epochs * len(train_dataset)\n",
        "scheduler = get_linear_schedule_with_warmup(optimizer, num_warmup_steps=0, num_training_steps=num_training_steps)\n"
      ]
    },
    {
      "cell_type": "code",
      "execution_count": null,
      "metadata": {
        "colab": {
          "base_uri": "https://localhost:8080/"
        },
        "id": "fiZNaS1RrCds",
        "outputId": "7dfb7bc1-e6c9-4a29-98b8-a749948fa5e1"
      },
      "outputs": [
        {
          "name": "stdout",
          "output_type": "stream",
          "text": [
            "Epoch: 1, Loss: 0.30668203048706055\n",
            "Epoch: 2, Loss: 0.1605567283630371\n",
            "Epoch: 3, Loss: 0.1427562993526459\n",
            "Epoch: 4, Loss: 0.13384398484230042\n",
            "Epoch: 5, Loss: 0.12659467940330504\n",
            "Epoch: 6, Loss: 0.12139453539848327\n",
            "Epoch: 7, Loss: 0.11654370977878571\n",
            "Epoch: 8, Loss: 0.11295679986476898\n",
            "Epoch: 9, Loss: 0.10770110086202621\n",
            "Epoch: 10, Loss: 0.10478583804368972\n"
          ]
        }
      ],
      "source": [
        "from torch.utils.data import DataLoader\n",
        "\n",
        "train_losses = []\n",
        "\n",
        "#Batch size is 12 here\n",
        "model.train()\n",
        "for epoch in range(num_epochs):\n",
        "    total_loss = 0\n",
        "    for batch in DataLoader(train_dataset, batch_size=12, shuffle=True):\n",
        "        optimizer.zero_grad()\n",
        "        input_ids = batch['input_ids'].to(device)\n",
        "        attention_mask = batch['attention_mask'].to(device)\n",
        "        labels = batch['labels'].to(device)\n",
        "\n",
        "        outputs = model(input_ids=input_ids, attention_mask=attention_mask, labels=labels)\n",
        "        loss = outputs.loss\n",
        "        total_loss += loss.item()\n",
        "\n",
        "        loss.backward()\n",
        "        optimizer.step()\n",
        "        scheduler.step()\n",
        "\n",
        "    avg_loss = total_loss / len(train_dataset)\n",
        "    train_losses.append(avg_loss)\n",
        "    print(f\"Epoch: {epoch+1}, Loss: {avg_loss}\")\n",
        "\n"
      ]
    },
    {
      "cell_type": "code",
      "execution_count": null,
      "metadata": {
        "colab": {
          "base_uri": "https://localhost:8080/",
          "height": 564
        },
        "id": "fMeLDOMpA1ya",
        "outputId": "5903f5d3-0879-4377-818c-5436e1d0aeb0"
      },
      "outputs": [
        {
          "data": {
            "image/png": "[encoded data removed]",
            "text/plain": [
              "<Figure size 1000x600 with 1 Axes>"
            ]
          },
          "metadata": {},
          "output_type": "display_data"
        }
      ],
      "source": [
        "import matplotlib.pyplot as plt\n",
        "\n",
        "plt.figure(figsize=(10, 6))\n",
        "plt.plot(range(1, num_epochs + 1), train_losses, label='Training Loss')\n",
        "plt.title('Training Loss Over Epochs')\n",
        "plt.xlabel('Epochs')\n",
        "plt.ylabel('Loss')\n",
        "plt.legend()\n",
        "plt.show()\n"
      ]
    },
    {
      "cell_type": "code",
      "execution_count": null,
      "metadata": {
        "colab": {
          "base_uri": "https://localhost:8080/"
        },
        "id": "IjnI42hzrq2D",
        "outputId": "5327a87a-1bdd-4a97-a4f6-2c65029512a5"
      },
      "outputs": [
        {
          "data": {
            "text/plain": [
              "('my_t5_small_finetuned/tokenizer_config.json',\n",
              " 'my_t5_small_finetuned/special_tokens_map.json',\n",
              " 'my_t5_small_finetuned/spiece.model',\n",
              " 'my_t5_small_finetuned/added_tokens.json')"
            ]
          },
          "execution_count": 109,
          "metadata": {},
          "output_type": "execute_result"
        }
      ],
      "source": [
        "model.save_pretrained(\"my_t5_small_finetuned\")\n",
        "tokenizer.save_pretrained(\"my_t5_small_finetuned\")"
      ]
    },
    {
      "cell_type": "code",
      "execution_count": null,
      "metadata": {
        "colab": {
          "base_uri": "https://localhost:8080/"
        },
        "id": "anuK0mQQjIS_",
        "outputId": "7141d00e-d7d1-43d8-d607-e6bdcc0477d6"
      },
      "outputs": [
        {
          "name": "stdout",
          "output_type": "stream",
          "text": [
            "Average Validation Loss: 0.09477117264270782\n"
          ]
        }
      ],
      "source": [
        "total_val_loss = 0\n",
        "model.eval()\n",
        "\n",
        "with torch.no_grad():\n",
        "    for batch in torch.utils.data.DataLoader(val_dataset, batch_size=batch_size):\n",
        "        input_ids = batch['input_ids'].to(device)\n",
        "        attention_mask = batch['attention_mask'].to(device)\n",
        "        labels = batch['labels'].to(device)\n",
        "\n",
        "        outputs = model(input_ids, attention_mask=attention_mask, labels=labels)\n",
        "        loss = outputs.loss\n",
        "        total_val_loss += loss.item()\n",
        "\n",
        "avg_val_loss = total_val_loss / len(val_dataset)\n",
        "print(f\"Average Validation Loss: {avg_val_loss}\")"
      ]
    },
    {
      "cell_type": "code",
      "execution_count": null,
      "metadata": {
        "colab": {
          "base_uri": "https://localhost:8080/"
        },
        "id": "a_Vxu3IMrwue",
        "outputId": "2b858c01-a2cf-438e-b50b-dc6c868afb0c"
      },
      "outputs": [
        {
          "name": "stdout",
          "output_type": "stream",
          "text": [
            "{'rouge1': AggregateScore(low=Score(precision=0.45037793199855647, recall=0.45796542658730205, fmeasure=0.44775525124321086), mid=Score(precision=0.4653173673548666, recall=0.4742075396825397, fmeasure=0.4623785898398144), high=Score(precision=0.4806775828338317, recall=0.4907152083333333, fmeasure=0.4782289298809653)), 'rouge2': AggregateScore(low=Score(precision=0.2045153634559882, recall=0.2079775595238093, fmeasure=0.20303814987064064), mid=Score(precision=0.22161872294372248, recall=0.2253908730158724, fmeasure=0.21943827013629696), high=Score(precision=0.24014579184704155, recall=0.24251563492063435, fmeasure=0.2370666009356147)), 'rougeL': AggregateScore(low=Score(precision=0.42556216720779166, recall=0.4344497519841263, fmeasure=0.4241161937239331), mid=Score(precision=0.44168902208902155, recall=0.44951210317460316, fmeasure=0.43880255738413787), high=Score(precision=0.45765889700577167, recall=0.465444126984127, fmeasure=0.4545557032898743)), 'rougeLsum': AggregateScore(low=Score(precision=0.42622048777611216, recall=0.43350523809523794, fmeasure=0.4233345419033169), mid=Score(precision=0.4414007339882337, recall=0.44964980158730206, fmeasure=0.4386731809083602), high=Score(precision=0.4571845723720716, recall=0.4654924801587303, fmeasure=0.4538333490282093))}\n"
          ]
        }
      ],
      "source": [
        "from datasets import load_metric\n",
        "import torch\n",
        "\n",
        "rouge = load_metric(\"rouge\")\n",
        "\n",
        "model.eval()\n",
        "with torch.no_grad():\n",
        "    for batch in torch.utils.data.DataLoader(val_dataset, batch_size=8):\n",
        "        input_ids = batch['input_ids'].to(device)\n",
        "        attention_mask = batch['attention_mask'].to(device)\n",
        "        labels = batch['labels'].to(device)\n",
        "\n",
        "        outputs = model.generate(input_ids=input_ids, attention_mask=attention_mask, max_length=50)\n",
        "\n",
        "        decoded_preds = tokenizer.batch_decode(outputs, skip_special_tokens=True)\n",
        "        decoded_labels = tokenizer.batch_decode(labels, skip_special_tokens=True)\n",
        "\n",
        "        rouge.add_batch(predictions=decoded_preds, references=decoded_labels)\n",
        "\n",
        "result = rouge.compute()\n",
        "print(result)\n"
      ]
    },
    {
      "cell_type": "code",
      "execution_count": null,
      "metadata": {
        "colab": {
          "base_uri": "https://localhost:8080/"
        },
        "id": "A8cxnlkXfJM2",
        "outputId": "f4f8adb0-de88-45a0-fd38-dfb92a7d01ab"
      },
      "outputs": [
        {
          "name": "stdout",
          "output_type": "stream",
          "text": [
            "{'rouge1': AggregateScore(low=Score(precision=0.4464792433261179, recall=0.4548929563492063, fmeasure=0.44329790723982004), mid=Score(precision=0.4636568778443779, recall=0.4714442460317459, fmeasure=0.4602641857862651), high=Score(precision=0.4802570269314016, recall=0.4881078273809522, fmeasure=0.4759565108611089)), 'rouge2': AggregateScore(low=Score(precision=0.20747814123376573, recall=0.20789041666666636, fmeasure=0.20399408049058834), mid=Score(precision=0.22381210317460268, recall=0.22444920634920587, fmeasure=0.2198411505977685), high=Score(precision=0.24121823232323197, recall=0.2418626388888884, fmeasure=0.23701588574415788)), 'rougeL': AggregateScore(low=Score(precision=0.4276768247724496, recall=0.4346634821428565, fmeasure=0.42478785778957134), mid=Score(precision=0.44315449689199676, recall=0.44914543650793615, fmeasure=0.4391804436469119), high=Score(precision=0.45991929050116565, recall=0.4662318650793654, fmeasure=0.45534741691218716)), 'rougeLsum': AggregateScore(low=Score(precision=0.42844661165223674, recall=0.43423655753968227, fmeasure=0.42483202215268484), mid=Score(precision=0.44322008130758134, recall=0.45013273809523746, fmeasure=0.4397664369600144), high=Score(precision=0.4589595508658004, recall=0.46513212301587314, fmeasure=0.45398538281002343))}\n"
          ]
        }
      ],
      "source": [
        "from datasets import load_metric\n",
        "import torch\n",
        "\n",
        "rouge = load_metric(\"rouge\")\n",
        "\n",
        "model.eval()\n",
        "with torch.no_grad():\n",
        "    for batch in torch.utils.data.DataLoader(test_dataset, batch_size=8):\n",
        "        input_ids = batch['input_ids'].to(device)\n",
        "        attention_mask = batch['attention_mask'].to(device)\n",
        "        labels = batch['labels'].to(device)\n",
        "\n",
        "        outputs = model.generate(input_ids=input_ids, attention_mask=attention_mask, max_length=50)\n",
        "\n",
        "        decoded_preds = tokenizer.batch_decode(outputs, skip_special_tokens=True)\n",
        "        decoded_labels = tokenizer.batch_decode(labels, skip_special_tokens=True)\n",
        "\n",
        "        rouge.add_batch(predictions=decoded_preds, references=decoded_labels)\n",
        "\n",
        "result = rouge.compute()\n",
        "print(result)"
      ]
    },
    {
      "cell_type": "code",
      "execution_count": null,
      "metadata": {
        "colab": {
          "base_uri": "https://localhost:8080/"
        },
        "id": "7ug1oICWr--a",
        "outputId": "ce1454e0-4c8e-4876-ece6-e0a807278388"
      },
      "outputs": [
        {
          "name": "stdout",
          "output_type": "stream",
          "text": [
            "Input Text: summarize: army awarded million dollars unk contracts build joint military bases bulgaria embassy said statement thursday\n",
            "\n",
            "Generated Summary: unk contracts build joint military bases bulgaria\n",
            "\n",
            "Actual Summary: army builds bulgarian base\n",
            "\n",
            "--------------------------------------------------\n",
            "\n",
            "Input Text: summarize: prominent militant group oil rich southern nigeria sunday said declared oil war threatened international industry vessels approach region\n",
            "\n",
            "Generated Summary: militant group says war threatens international industry\n",
            "\n",
            "Actual Summary: militant group niger delta declares war oil industry\n",
            "\n",
            "--------------------------------------------------\n",
            "\n",
            "Input Text: summarize: defense secretary robert gates arrived london wednesday ahead meeting nato colleagues set overshadowed georgia conflict russia\n",
            "\n",
            "Generated Summary: gates arrives london ahead nato meeting russia\n",
            "\n",
            "Actual Summary: gates arrives london ahead nato meeting\n",
            "\n",
            "--------------------------------------------------\n",
            "\n",
            "Input Text: summarize: dell expects softening global demand computers information technology products company said statement tuesday\n",
            "\n",
            "Generated Summary: dell expects softening global demand computers\n",
            "\n",
            "Actual Summary: dell sees diminishing global demand\n",
            "\n",
            "--------------------------------------------------\n",
            "\n",
            "Input Text: summarize: separatist tamil tiger rebels tuesday said beat back stiff army offensive northern stronghold killing soldiers wounding\n",
            "\n",
            "Generated Summary: tiger rebels beat back offensive northern stronghold\n",
            "\n",
            "Actual Summary: sri lanka tigers say killed soldiers\n",
            "\n",
            "--------------------------------------------------\n",
            "\n",
            "Input Text: summarize: magnitude earthquake struck eastern indonesian province maluku tuesday threat tsunami immediate reports damage seismologists said\n",
            "\n",
            "Generated Summary: magnitude earthquake strikes maluku\n",
            "\n",
            "Actual Summary: quake strikes indonesia maluku\n",
            "\n",
            "--------------------------------------------------\n",
            "\n",
            "Input Text: summarize: nato chief jaap hoop scheffer tuesday said georgia path nato membership wide open warned russia interfering assessed damage last month war\n",
            "\n",
            "Generated Summary: nato chief warns russian ties\n",
            "\n",
            "Actual Summary: nato path wide open georgia says alliance chief\n",
            "\n",
            "--------------------------------------------------\n",
            "\n",
            "Input Text: summarize: mexican authorities suspect powerful drug gang known familia involvement deadly grenade attack independence day celebrations official said thursday\n",
            "\n",
            "Generated Summary: mexico suspects gang grenade attack\n",
            "\n",
            "Actual Summary: mexico suspects top drug gang independence day attack\n",
            "\n",
            "--------------------------------------------------\n",
            "\n"
          ]
        }
      ],
      "source": [
        "model.eval()\n",
        "with torch.no_grad():\n",
        "    for batch in torch.utils.data.DataLoader(test_dataset, batch_size=8):\n",
        "        input_ids = batch['input_ids'].to(device)\n",
        "        attention_mask = batch['attention_mask'].to(device)\n",
        "        labels = batch['labels'].to(device)\n",
        "\n",
        "        outputs = model.generate(input_ids=input_ids, attention_mask=attention_mask, max_length=50)\n",
        "\n",
        "        decoded_inputs = tokenizer.batch_decode(input_ids, skip_special_tokens=True)\n",
        "        decoded_preds = tokenizer.batch_decode(outputs, skip_special_tokens=True)\n",
        "        decoded_labels = tokenizer.batch_decode(labels, skip_special_tokens=True)\n",
        "\n",
        "        for input_text, pred, actual in zip(decoded_inputs, decoded_preds, decoded_labels):\n",
        "            print(f\"Input Text: {input_text}\\n\")\n",
        "            print(f\"Generated Summary: {pred}\\n\")\n",
        "            print(f\"Actual Summary: {actual}\\n\")\n",
        "            print(\"--------------------------------------------------\\n\")\n",
        "\n",
        "\n",
        "        break"
      ]
    },
    {
      "cell_type": "code",
      "execution_count": null,
      "metadata": {
        "id": "bSFHZayXfLXd"
      },
      "outputs": [],
      "source": [
        "from transformers import T5ForConditionalGeneration\n",
        "\n",
        "model = T5ForConditionalGeneration.from_pretrained(\"t5-small\")\n",
        "\n",
        "n_last_layers = 3\n",
        "\n",
        "#Freeze all layers first\n",
        "for param in model.parameters():\n",
        "    param.requires_grad = False\n",
        "\n",
        "#Unfreeze the last 'n' layers\n",
        "for i in range(-1, -n_last_layers - 1, -1):\n",
        "    for param in model.decoder.block[i].parameters():\n",
        "        param.requires_grad = True\n"
      ]
    },
    {
      "cell_type": "code",
      "execution_count": null,
      "metadata": {
        "colab": {
          "base_uri": "https://localhost:8080/"
        },
        "id": "rqexs0oqhpjt",
        "outputId": "9dd08a89-9111-4062-e10c-9bd91b1b1082"
      },
      "outputs": [
        {
          "name": "stdout",
          "output_type": "stream",
          "text": [
            "Epoch: 0, Loss: 0.5988938335418701\n",
            "Epoch: 1, Loss: 0.2811576003551483\n",
            "Epoch: 2, Loss: 0.2207222473144531\n",
            "Epoch: 3, Loss: 0.18867239792346954\n",
            "Epoch: 4, Loss: 0.17400601000785829\n",
            "Epoch: 5, Loss: 0.16589739496707917\n",
            "Epoch: 6, Loss: 0.15913574297428132\n",
            "Epoch: 7, Loss: 0.15502073652744294\n",
            "Epoch: 8, Loss: 0.15138334543704987\n",
            "Epoch: 9, Loss: 0.1483106059074402\n"
          ]
        }
      ],
      "source": [
        "import matplotlib.pyplot as plt\n",
        "model = T5ForConditionalGeneration.from_pretrained(\"t5-small\")\n",
        "\n",
        "\n",
        "train_losses = []\n",
        "\n",
        "for param in model.parameters():\n",
        "    param.requires_grad = False\n",
        "\n",
        "n_last_layers = 3\n",
        "for i in range(-1, -n_last_layers - 1, -1):\n",
        "    for param in model.decoder.block[i].parameters():\n",
        "        param.requires_grad = True\n",
        "\n",
        "model.to(device)\n",
        "\n",
        "epochs = 10\n",
        "batch_size = 8\n",
        "learning_rate = 3e-5\n",
        "\n",
        "optimizer = AdamW(model.parameters(), lr=learning_rate)\n",
        "scheduler = get_linear_schedule_with_warmup(optimizer, num_warmup_steps=0, num_training_steps=len(train_dataset) * epochs)\n",
        "\n",
        "model.train()\n",
        "for epoch in range(epochs):\n",
        "    total_loss = 0\n",
        "    for batch in torch.utils.data.DataLoader(train_dataset, batch_size=batch_size):\n",
        "        optimizer.zero_grad()\n",
        "        input_ids = batch['input_ids'].to(device)\n",
        "        attention_mask = batch['attention_mask'].to(device)\n",
        "        labels = batch['labels'].to(device)\n",
        "\n",
        "        outputs = model(input_ids, attention_mask=attention_mask, labels=labels)\n",
        "        loss = outputs.loss\n",
        "        total_loss += loss.item()\n",
        "\n",
        "        loss.backward()\n",
        "        optimizer.step()\n",
        "        scheduler.step()\n",
        "\n",
        "    avg_loss = total_loss / len(train_dataset)\n",
        "    train_losses.append(avg_loss)\n",
        "    print(f\"Epoch: {epoch}, Loss: {avg_loss}\")"
      ]
    },
    {
      "cell_type": "code",
      "execution_count": null,
      "metadata": {
        "colab": {
          "base_uri": "https://localhost:8080/",
          "height": 564
        },
        "id": "RZ0SIJiJZCau",
        "outputId": "04e3704c-9f01-4821-9110-3b2a13fb0fe0"
      },
      "outputs": [
        {
          "data": {
            "image/png": "[encoded data removed]",
            "text/plain": [
              "<Figure size 1000x600 with 1 Axes>"
            ]
          },
          "metadata": {},
          "output_type": "display_data"
        }
      ],
      "source": [
        "plt.figure(figsize=(10, 6))\n",
        "plt.plot(range(1, epochs + 1), train_losses, label='Training Loss')\n",
        "plt.title('Training Loss Over Epochs')\n",
        "plt.xlabel('Epochs')\n",
        "plt.ylabel('Loss')\n",
        "plt.legend()\n",
        "plt.grid(True)\n",
        "plt.show()"
      ]
    },
    {
      "cell_type": "code",
      "execution_count": null,
      "metadata": {
        "colab": {
          "base_uri": "https://localhost:8080/"
        },
        "id": "lvIFRqSijSls",
        "outputId": "abdea396-a4a1-465b-c403-fb76a5bf35f7"
      },
      "outputs": [
        {
          "name": "stdout",
          "output_type": "stream",
          "text": [
            "Average Validation Loss: 0.12440380144119263\n"
          ]
        }
      ],
      "source": [
        "total_val_loss = 0\n",
        "model.eval()\n",
        "\n",
        "with torch.no_grad():\n",
        "    for batch in torch.utils.data.DataLoader(val_dataset, batch_size=batch_size):\n",
        "        input_ids = batch['input_ids'].to(device)\n",
        "        attention_mask = batch['attention_mask'].to(device)\n",
        "        labels = batch['labels'].to(device)\n",
        "\n",
        "        outputs = model(input_ids, attention_mask=attention_mask, labels=labels)\n",
        "        loss = outputs.loss\n",
        "        total_val_loss += loss.item()\n",
        "\n",
        "avg_val_loss = total_val_loss / len(val_dataset)\n",
        "print(f\"Average Validation Loss: {avg_val_loss}\")"
      ]
    },
    {
      "cell_type": "code",
      "execution_count": null,
      "metadata": {
        "colab": {
          "base_uri": "https://localhost:8080/"
        },
        "id": "XaKFdYzZQxcx",
        "outputId": "8c0cf5cf-481f-43d3-9b02-c7b3b257be3d"
      },
      "outputs": [
        {
          "name": "stdout",
          "output_type": "stream",
          "text": [
            "{'rouge1': AggregateScore(low=Score(precision=0.37412513236763234, recall=0.3897264484126987, fmeasure=0.3733568350852804), mid=Score(precision=0.3884812236374736, recall=0.40445039682539663, fmeasure=0.3868713838406188), high=Score(precision=0.40290360982767204, recall=0.4193368452380951, fmeasure=0.40105226179737175)), 'rouge2': AggregateScore(low=Score(precision=0.13802015061327577, recall=0.14600534722222233, fmeasure=0.1379834595388277), mid=Score(precision=0.15082296176046184, recall=0.15962023809523818, fmeasure=0.15080573613263287), high=Score(precision=0.16400451839826857, recall=0.17345854166666638, fmeasure=0.16435658579745893)), 'rougeL': AggregateScore(low=Score(precision=0.3500738037656785, recall=0.36395118055555575, fmeasure=0.34909131618295774), mid=Score(precision=0.36461305569430535, recall=0.3798444444444444, fmeasure=0.3636611821614928), high=Score(precision=0.3793883706571207, recall=0.39496665674603165, fmeasure=0.37782516219698004)), 'rougeLsum': AggregateScore(low=Score(precision=0.3503294543303915, recall=0.3641231250000003, fmeasure=0.3492621880626267), mid=Score(precision=0.3646443147130649, recall=0.379393055555555, fmeasure=0.3633201932828106), high=Score(precision=0.38021622707153974, recall=0.3937351587301592, fmeasure=0.37749667471030995))}\n"
          ]
        }
      ],
      "source": [
        "from datasets import load_metric\n",
        "\n",
        "rouge = load_metric('rouge')\n",
        "\n",
        "model.eval()\n",
        "\n",
        "predictions = []\n",
        "labels = []\n",
        "\n",
        "with torch.no_grad():\n",
        "    for batch in torch.utils.data.DataLoader(val_dataset, batch_size=batch_size):\n",
        "        input_ids = batch['input_ids'].to(device)\n",
        "        attention_mask = batch['attention_mask'].to(device)\n",
        "        labels_batch = batch['labels'].to(device)\n",
        "\n",
        "        outputs = model.generate(input_ids=input_ids, attention_mask=attention_mask)\n",
        "\n",
        "        decoded_preds = tokenizer.batch_decode(outputs, skip_special_tokens=True)\n",
        "        decoded_labels = tokenizer.batch_decode(labels_batch, skip_special_tokens=True)\n",
        "\n",
        "        predictions.extend(decoded_preds)\n",
        "        labels.extend(decoded_labels)\n",
        "\n",
        "for prediction, label in zip(predictions, labels):\n",
        "    rouge.add(prediction=prediction, reference=label)\n",
        "\n",
        "result = rouge.compute()\n",
        "print(result)"
      ]
    },
    {
      "cell_type": "code",
      "execution_count": null,
      "metadata": {
        "colab": {
          "base_uri": "https://localhost:8080/"
        },
        "id": "BO3d1qvxfZVW",
        "outputId": "749cb07e-ab19-4fda-ccc6-dd5174f5bb59"
      },
      "outputs": [
        {
          "name": "stdout",
          "output_type": "stream",
          "text": [
            "{'rouge1': AggregateScore(low=Score(precision=0.37028295926295907, recall=0.38245105158730136, fmeasure=0.36753142536170463), mid=Score(precision=0.3855153846153842, recall=0.39845853174603196, fmeasure=0.38215816334937946), high=Score(precision=0.399534511391387, recall=0.41295982142857085, fmeasure=0.3956335357124399)), 'rouge2': AggregateScore(low=Score(precision=0.13718946879509383, recall=0.14525419642857154, fmeasure=0.13635825241579919), mid=Score(precision=0.14995227272727268, recall=0.15791666666666676, fmeasure=0.14853307000447136), high=Score(precision=0.16405048069985553, recall=0.17291797619047589, fmeasure=0.16182849719058928)), 'rougeL': AggregateScore(low=Score(precision=0.3490362882256631, recall=0.3599209623015868, fmeasure=0.34566012150474323), mid=Score(precision=0.36352022838272824, recall=0.3752773809523808, fmeasure=0.36006703856858735), high=Score(precision=0.37704770125707593, recall=0.3899941765873015, fmeasure=0.37330322031619206)), 'rougeLsum': AggregateScore(low=Score(precision=0.3489587851731603, recall=0.3587978472222217, fmeasure=0.34578891744328183), mid=Score(precision=0.36271400405150356, recall=0.3746561507936503, fmeasure=0.3593473126160056), high=Score(precision=0.3777816012459762, recall=0.39003581349206334, fmeasure=0.3736286009494901))}\n"
          ]
        }
      ],
      "source": [
        "from datasets import load_metric\n",
        "\n",
        "rouge = load_metric('rouge')\n",
        "\n",
        "model.eval()\n",
        "\n",
        "predictions = []\n",
        "labels = []\n",
        "\n",
        "with torch.no_grad():\n",
        "    for batch in torch.utils.data.DataLoader(test_dataset, batch_size=batch_size):\n",
        "        input_ids = batch['input_ids'].to(device)\n",
        "        attention_mask = batch['attention_mask'].to(device)\n",
        "        labels_batch = batch['labels'].to(device)\n",
        "\n",
        "        outputs = model.generate(input_ids=input_ids, attention_mask=attention_mask)\n",
        "\n",
        "        decoded_preds = tokenizer.batch_decode(outputs, skip_special_tokens=True)\n",
        "        decoded_labels = tokenizer.batch_decode(labels_batch, skip_special_tokens=True)\n",
        "\n",
        "        predictions.extend(decoded_preds)\n",
        "        labels.extend(decoded_labels)\n",
        "\n",
        "for prediction, label in zip(predictions, labels):\n",
        "    rouge.add(prediction=prediction, reference=label)\n",
        "\n",
        "result = rouge.compute()\n",
        "print(result)"
      ]
    },
    {
      "cell_type": "code",
      "execution_count": null,
      "metadata": {
        "colab": {
          "base_uri": "https://localhost:8080/"
        },
        "id": "Z9sk04mTam_F",
        "outputId": "c80343e0-bf61-41af-e4bf-0faa576c6a3a"
      },
      "outputs": [
        {
          "name": "stdout",
          "output_type": "stream",
          "text": [
            "Input Text: summarize: army awarded million dollars unk contracts build joint military bases bulgaria embassy said statement thursday\n",
            "\n",
            "Generated Summary: unk contracts build joint military bases\n",
            "\n",
            "Actual Summary: army builds bulgarian base\n",
            "\n",
            "--------------------------------------------------\n",
            "\n",
            "Input Text: summarize: prominent militant group oil rich southern nigeria sunday said declared oil war threatened international industry vessels approach region\n",
            "\n",
            "Generated Summary: militant group warns oil war threatens region\n",
            "\n",
            "Actual Summary: militant group niger delta declares war oil industry\n",
            "\n",
            "--------------------------------------------------\n",
            "\n",
            "Input Text: summarize: defense secretary robert gates arrived london wednesday ahead meeting nato colleagues set overshadowed georgia conflict russia\n",
            "\n",
            "Generated Summary: gates meets nato colleagues russian conflict\n",
            "\n",
            "Actual Summary: gates arrives london ahead nato meeting\n",
            "\n",
            "--------------------------------------------------\n",
            "\n",
            "Input Text: summarize: dell expects softening global demand computers information technology products company said statement tuesday\n",
            "\n",
            "Generated Summary: dell expects softening global demand computers\n",
            "\n",
            "Actual Summary: dell sees diminishing global demand\n",
            "\n",
            "--------------------------------------------------\n",
            "\n",
            "Input Text: summarize: separatist tamil tiger rebels tuesday said beat back stiff army offensive northern stronghold killing soldiers wounding\n",
            "\n",
            "Generated Summary: tiger rebels beat back offensive northern stronghold\n",
            "\n",
            "Actual Summary: sri lanka tigers say killed soldiers\n",
            "\n",
            "--------------------------------------------------\n",
            "\n",
            "Input Text: summarize: magnitude earthquake struck eastern indonesian province maluku tuesday threat tsunami immediate reports damage seismologists said\n",
            "\n",
            "Generated Summary: magnitude earthquake strikes maluku.\n",
            "\n",
            "Actual Summary: quake strikes indonesia maluku\n",
            "\n",
            "--------------------------------------------------\n",
            "\n",
            "Input Text: summarize: nato chief jaap hoop scheffer tuesday said georgia path nato membership wide open warned russia interfering assessed damage last month war\n",
            "\n",
            "Generated Summary: nato chief warns russia.\n",
            "\n",
            "Actual Summary: nato path wide open georgia says alliance chief\n",
            "\n",
            "--------------------------------------------------\n",
            "\n",
            "Input Text: summarize: mexican authorities suspect powerful drug gang known familia involvement deadly grenade attack independence day celebrations official said thursday\n",
            "\n",
            "Generated Summary: mexico suspects drug gang.\n",
            "\n",
            "Actual Summary: mexico suspects top drug gang independence day attack\n",
            "\n",
            "--------------------------------------------------\n",
            "\n"
          ]
        }
      ],
      "source": [
        "model.eval()\n",
        "with torch.no_grad():\n",
        "    for batch in torch.utils.data.DataLoader(test_dataset, batch_size=8):\n",
        "        input_ids = batch['input_ids'].to(device)\n",
        "        attention_mask = batch['attention_mask'].to(device)\n",
        "        labels = batch['labels'].to(device)\n",
        "\n",
        "        outputs = model.generate(input_ids=input_ids, attention_mask=attention_mask, max_length=50)\n",
        "\n",
        "        decoded_inputs = tokenizer.batch_decode(input_ids, skip_special_tokens=True)\n",
        "        decoded_preds = tokenizer.batch_decode(outputs, skip_special_tokens=True)\n",
        "        decoded_labels = tokenizer.batch_decode(labels, skip_special_tokens=True)\n",
        "\n",
        "\n",
        "        for input_text, pred, actual in zip(decoded_inputs, decoded_preds, decoded_labels):\n",
        "            print(f\"Input Text: {input_text}\\n\")\n",
        "            print(f\"Generated Summary: {pred}\\n\")\n",
        "            print(f\"Actual Summary: {actual}\\n\")\n",
        "            print(\"--------------------------------------------------\\n\")\n",
        "\n",
        "        break"
      ]
    }
  ],
  "metadata": {
    "accelerator": "GPU",
    "colab": {
      "gpuType": "T4",
      "machine_shape": "hm",
      "provenance": []
    },
    "kernelspec": {
      "display_name": "Python 3 (ipykernel)",
      "language": "python",
      "name": "python3"
    },
    "language_info": {
      "codemirror_mode": {
        "name": "ipython",
        "version": 3
      },
      "file_extension": ".py",
      "mimetype": "text/x-python",
      "name": "python",
      "nbconvert_exporter": "python",
      "pygments_lexer": "ipython3",
      "version": "3.10.9"
    }
  },
  "nbformat": 4,
  "nbformat_minor": 0
}